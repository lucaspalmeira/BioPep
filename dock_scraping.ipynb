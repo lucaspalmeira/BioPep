{
 "cells": [
  {
   "cell_type": "code",
   "execution_count": 1,
   "metadata": {},
   "outputs": [],
   "source": [
    "from selenium import webdriver\n",
    "from selenium.webdriver.common.by import By\n",
    "\n",
    "from output import output\n",
    "\n",
    "import pandas as pd\n",
    "import time\n",
    "import wget\n",
    "import os\n",
    "import glob"
   ]
  },
  {
   "cell_type": "code",
   "execution_count": 2,
   "metadata": {
    "scrolled": false
   },
   "outputs": [],
   "source": [
    "out_path = f'{os.getcwd()}/output/{output.get()}'\n",
    "df = pd.read_csv(f'{out_path}/out_submit.csv')"
   ]
  },
  {
   "cell_type": "code",
   "execution_count": 3,
   "metadata": {},
   "outputs": [],
   "source": [
    "items = [{'Index': x['Index'], 'Link': x['Link'], 'Energy': 'NaN'} for i, x in df.iterrows()]"
   ]
  },
  {
   "cell_type": "code",
   "execution_count": 4,
   "metadata": {},
   "outputs": [],
   "source": [
    "driver = webdriver.Chrome()"
   ]
  },
  {
   "cell_type": "code",
   "execution_count": 5,
   "metadata": {},
   "outputs": [
    {
     "name": "stdout",
     "output_type": "stream",
     "text": [
      "Collecting data... http://huanglab.phys.hust.edu.cn/hpepdock/data/636253d795b6e/\n",
      "100% [..............................................................................] 21581 / 21581Pep5 docking has completed. See top 10 models for it in:\n",
      "  D:\\WilliamJSS\\Projects\\LBQC\\BioPep/output/2022.11.02-08.25.48-Task/docking/pep5\n",
      "\n",
      "Collecting data... http://huanglab.phys.hust.edu.cn/hpepdock/data/636253f35313a/\n",
      "100% [..............................................................................] 21651 / 21651Pep6 docking has completed. See top 10 models for it in:\n",
      "  D:\\WilliamJSS\\Projects\\LBQC\\BioPep/output/2022.11.02-08.25.48-Task/docking/pep6\n",
      "\n",
      "Collecting data... http://huanglab.phys.hust.edu.cn/hpepdock/data/6362540e02818/\n",
      "100% [..............................................................................] 14717 / 14717Pep11 docking has completed. See top 10 models for it in:\n",
      "  D:\\WilliamJSS\\Projects\\LBQC\\BioPep/output/2022.11.02-08.25.48-Task/docking/pep11\n",
      "\n",
      "Collecting data... http://huanglab.phys.hust.edu.cn/hpepdock/data/63625422631c4/\n",
      "100% [..............................................................................] 15101 / 15101Pep12 docking has completed. See top 10 models for it in:\n",
      "  D:\\WilliamJSS\\Projects\\LBQC\\BioPep/output/2022.11.02-08.25.48-Task/docking/pep12\n",
      "\n",
      "Collecting data... http://huanglab.phys.hust.edu.cn/hpepdock/data/6362543c20890/\n",
      "100% [..............................................................................] 16160 / 16160Pep13 docking has completed. See top 10 models for it in:\n",
      "  D:\\WilliamJSS\\Projects\\LBQC\\BioPep/output/2022.11.02-08.25.48-Task/docking/pep13\n",
      "\n",
      "Collecting data... http://huanglab.phys.hust.edu.cn/hpepdock/data/63625455ee061/\n",
      "100% [..............................................................................] 16222 / 16222Pep14 docking has completed. See top 10 models for it in:\n",
      "  D:\\WilliamJSS\\Projects\\LBQC\\BioPep/output/2022.11.02-08.25.48-Task/docking/pep14\n",
      "\n",
      "Collecting data... http://huanglab.phys.hust.edu.cn/hpepdock/data/6362546b8bf50/\n",
      "100% [..............................................................................] 16025 / 16025Pep15 docking has completed. See top 10 models for it in:\n",
      "  D:\\WilliamJSS\\Projects\\LBQC\\BioPep/output/2022.11.02-08.25.48-Task/docking/pep15\n",
      "\n",
      "Collecting data... http://huanglab.phys.hust.edu.cn/hpepdock/data/63625482e2692/\n",
      "100% [..............................................................................] 16187 / 16187Pep16 docking has completed. See top 10 models for it in:\n",
      "  D:\\WilliamJSS\\Projects\\LBQC\\BioPep/output/2022.11.02-08.25.48-Task/docking/pep16\n",
      "\n",
      "Collecting data... http://huanglab.phys.hust.edu.cn/hpepdock/data/63625496ceacf/\n",
      "100% [..............................................................................] 16438 / 16438Pep17 docking has completed. See top 10 models for it in:\n",
      "  D:\\WilliamJSS\\Projects\\LBQC\\BioPep/output/2022.11.02-08.25.48-Task/docking/pep17\n",
      "\n",
      "Collecting data... http://huanglab.phys.hust.edu.cn/hpepdock/data/636254ac7e61d/\n",
      "100% [..............................................................................] 16017 / 16017Pep18 docking has completed. See top 10 models for it in:\n",
      "  D:\\WilliamJSS\\Projects\\LBQC\\BioPep/output/2022.11.02-08.25.48-Task/docking/pep18\n",
      "\n"
     ]
    }
   ],
   "source": [
    "for i, item in enumerate(items):\n",
    "    driver.get(item['Link'])\n",
    "    time.sleep(3)\n",
    "\n",
    "    print('Collecting data...', item['Link'])\n",
    "    element = driver.find_element(By.XPATH, '/html/body/center/table[3]/tbody/tr[2]/td[1]')\n",
    "    item['Energy'] = element.text\n",
    "    # Docking Score (1st model)\n",
    "\n",
    "    dock_path = f'{out_path}/docking/pep{item[\"Index\"]}'\n",
    "    if not os.path.exists(dock_path):\n",
    "        os.makedirs(dock_path)\n",
    "    # Create docking results folder\n",
    "\n",
    "    top10_models = f'{item[\"Link\"]}top10_models.tar.gz'\n",
    "    wget.download(top10_models)\n",
    "    os.system(f'tar -xzf top10_models.tar.gz -C {dock_path}')\n",
    "    # Download and extract files containing the 10 best positions of each peptide\n",
    "\n",
    "    [directory] = os.listdir(dock_path)\n",
    "    topmodels = os.listdir(f'{dock_path}/{directory}')\n",
    "    for model in topmodels:\n",
    "        os.rename(f'{dock_path}/{directory}/{model}', f'{dock_path}/{model}')\n",
    "    os.rmdir(f'{dock_path}/{directory}')\n",
    "    os.remove('top10_models.tar.gz')\n",
    "    # Delete file and move models to pep folder\n",
    "\n",
    "    print(f'Pep{item[\"Index\"]} docking has completed. See top 10 models for it in:\\n  {dock_path}\\n')"
   ]
  },
  {
   "cell_type": "code",
   "execution_count": 6,
   "metadata": {},
   "outputs": [],
   "source": [
    "driver.close()"
   ]
  },
  {
   "cell_type": "code",
   "execution_count": 7,
   "metadata": {},
   "outputs": [],
   "source": [
    "df['Energies'] = [item['Energy'] for item in items]\n",
    "df.to_csv(f'{out_path}/results_dock.csv')"
   ]
  }
 ],
 "metadata": {
  "kernelspec": {
   "display_name": "Python 3 (ipykernel)",
   "language": "python",
   "name": "python3"
  },
  "language_info": {
   "codemirror_mode": {
    "name": "ipython",
    "version": 3
   },
   "file_extension": ".py",
   "mimetype": "text/x-python",
   "name": "python",
   "nbconvert_exporter": "python",
   "pygments_lexer": "ipython3",
   "version": "3.9.13"
  }
 },
 "nbformat": 4,
 "nbformat_minor": 4
}
